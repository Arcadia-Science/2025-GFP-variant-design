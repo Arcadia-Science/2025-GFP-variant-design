{
 "cells": [
  {
   "cell_type": "markdown",
   "id": "c78c7d32-86bb-4ac9-bd1c-70a1042c1ee3",
   "metadata": {
    "jp-MarkdownHeadingCollapsed": true,
    "tags": []
   },
   "source": [
    "# Setup and config"
   ]
  },
  {
   "cell_type": "code",
   "execution_count": 1,
   "id": "c9ac9296",
   "metadata": {},
   "outputs": [
    {
     "name": "stdout",
     "output_type": "stream",
     "text": [
      "Collecting tqdm\n",
      "  Downloading tqdm-4.67.1-py3-none-any.whl.metadata (57 kB)\n",
      "Collecting numpy\n",
      "  Downloading numpy-2.3.2-cp311-cp311-manylinux_2_27_x86_64.manylinux_2_28_x86_64.whl.metadata (62 kB)\n",
      "Collecting pandas\n",
      "  Downloading pandas-2.3.1-cp311-cp311-manylinux_2_17_x86_64.manylinux2014_x86_64.whl.metadata (91 kB)\n",
      "Collecting torch\n",
      "  Downloading torch-2.8.0-cp311-cp311-manylinux_2_28_x86_64.whl.metadata (30 kB)\n",
      "Collecting seaborn\n",
      "  Downloading seaborn-0.13.2-py3-none-any.whl.metadata (5.4 kB)\n",
      "Collecting scikit-learn\n",
      "  Downloading scikit_learn-1.7.1-cp311-cp311-manylinux2014_x86_64.manylinux_2_17_x86_64.whl.metadata (11 kB)\n",
      "Requirement already satisfied: python-dateutil>=2.8.2 in /usr/local/lib/python3.11/site-packages (from pandas) (2.9.0.post0)\n",
      "Collecting pytz>=2020.1 (from pandas)\n",
      "  Downloading pytz-2025.2-py2.py3-none-any.whl.metadata (22 kB)\n",
      "Collecting tzdata>=2022.7 (from pandas)\n",
      "  Downloading tzdata-2025.2-py2.py3-none-any.whl.metadata (1.4 kB)\n",
      "Collecting filelock (from torch)\n",
      "  Downloading filelock-3.19.1-py3-none-any.whl.metadata (2.1 kB)\n",
      "Requirement already satisfied: typing-extensions>=4.10.0 in /usr/local/lib/python3.11/site-packages (from torch) (4.12.2)\n",
      "Collecting sympy>=1.13.3 (from torch)\n",
      "  Downloading sympy-1.14.0-py3-none-any.whl.metadata (12 kB)\n",
      "Collecting networkx (from torch)\n",
      "  Downloading networkx-3.5-py3-none-any.whl.metadata (6.3 kB)\n",
      "Requirement already satisfied: jinja2 in /usr/local/lib/python3.11/site-packages (from torch) (3.1.6)\n",
      "Collecting fsspec (from torch)\n",
      "  Downloading fsspec-2025.7.0-py3-none-any.whl.metadata (12 kB)\n",
      "Collecting nvidia-cuda-nvrtc-cu12==12.8.93 (from torch)\n",
      "  Downloading nvidia_cuda_nvrtc_cu12-12.8.93-py3-none-manylinux2010_x86_64.manylinux_2_12_x86_64.whl.metadata (1.7 kB)\n",
      "Collecting nvidia-cuda-runtime-cu12==12.8.90 (from torch)\n",
      "  Downloading nvidia_cuda_runtime_cu12-12.8.90-py3-none-manylinux2014_x86_64.manylinux_2_17_x86_64.whl.metadata (1.7 kB)\n",
      "Collecting nvidia-cuda-cupti-cu12==12.8.90 (from torch)\n",
      "  Downloading nvidia_cuda_cupti_cu12-12.8.90-py3-none-manylinux2014_x86_64.manylinux_2_17_x86_64.whl.metadata (1.7 kB)\n",
      "Collecting nvidia-cudnn-cu12==9.10.2.21 (from torch)\n",
      "  Downloading nvidia_cudnn_cu12-9.10.2.21-py3-none-manylinux_2_27_x86_64.whl.metadata (1.8 kB)\n",
      "Collecting nvidia-cublas-cu12==12.8.4.1 (from torch)\n",
      "  Downloading nvidia_cublas_cu12-12.8.4.1-py3-none-manylinux_2_27_x86_64.whl.metadata (1.7 kB)\n",
      "Collecting nvidia-cufft-cu12==11.3.3.83 (from torch)\n",
      "  Downloading nvidia_cufft_cu12-11.3.3.83-py3-none-manylinux2014_x86_64.manylinux_2_17_x86_64.whl.metadata (1.7 kB)\n",
      "Collecting nvidia-curand-cu12==10.3.9.90 (from torch)\n",
      "  Downloading nvidia_curand_cu12-10.3.9.90-py3-none-manylinux_2_27_x86_64.whl.metadata (1.7 kB)\n",
      "Collecting nvidia-cusolver-cu12==11.7.3.90 (from torch)\n",
      "  Downloading nvidia_cusolver_cu12-11.7.3.90-py3-none-manylinux_2_27_x86_64.whl.metadata (1.8 kB)\n",
      "Collecting nvidia-cusparse-cu12==12.5.8.93 (from torch)\n",
      "  Downloading nvidia_cusparse_cu12-12.5.8.93-py3-none-manylinux2014_x86_64.manylinux_2_17_x86_64.whl.metadata (1.8 kB)\n",
      "Collecting nvidia-cusparselt-cu12==0.7.1 (from torch)\n",
      "  Downloading nvidia_cusparselt_cu12-0.7.1-py3-none-manylinux2014_x86_64.whl.metadata (7.0 kB)\n",
      "Collecting nvidia-nccl-cu12==2.27.3 (from torch)\n",
      "  Downloading nvidia_nccl_cu12-2.27.3-py3-none-manylinux2014_x86_64.manylinux_2_17_x86_64.whl.metadata (2.0 kB)\n",
      "Collecting nvidia-nvtx-cu12==12.8.90 (from torch)\n",
      "  Downloading nvidia_nvtx_cu12-12.8.90-py3-none-manylinux2014_x86_64.manylinux_2_17_x86_64.whl.metadata (1.8 kB)\n",
      "Collecting nvidia-nvjitlink-cu12==12.8.93 (from torch)\n",
      "  Downloading nvidia_nvjitlink_cu12-12.8.93-py3-none-manylinux2010_x86_64.manylinux_2_12_x86_64.whl.metadata (1.7 kB)\n",
      "Collecting nvidia-cufile-cu12==1.13.1.3 (from torch)\n",
      "  Downloading nvidia_cufile_cu12-1.13.1.3-py3-none-manylinux2014_x86_64.manylinux_2_17_x86_64.whl.metadata (1.7 kB)\n",
      "Collecting triton==3.4.0 (from torch)\n",
      "  Downloading triton-3.4.0-cp311-cp311-manylinux_2_27_x86_64.manylinux_2_28_x86_64.whl.metadata (1.7 kB)\n",
      "Requirement already satisfied: setuptools>=40.8.0 in /usr/local/lib/python3.11/site-packages (from triton==3.4.0->torch) (68.1.2)\n",
      "Collecting matplotlib!=3.6.1,>=3.4 (from seaborn)\n",
      "  Downloading matplotlib-3.10.5-cp311-cp311-manylinux2014_x86_64.manylinux_2_17_x86_64.whl.metadata (11 kB)\n",
      "Collecting scipy>=1.8.0 (from scikit-learn)\n",
      "  Downloading scipy-1.16.1-cp311-cp311-manylinux2014_x86_64.manylinux_2_17_x86_64.whl.metadata (61 kB)\n",
      "Collecting joblib>=1.2.0 (from scikit-learn)\n",
      "  Downloading joblib-1.5.1-py3-none-any.whl.metadata (5.6 kB)\n",
      "Collecting threadpoolctl>=3.1.0 (from scikit-learn)\n",
      "  Downloading threadpoolctl-3.6.0-py3-none-any.whl.metadata (13 kB)\n",
      "Collecting contourpy>=1.0.1 (from matplotlib!=3.6.1,>=3.4->seaborn)\n",
      "  Downloading contourpy-1.3.3-cp311-cp311-manylinux_2_27_x86_64.manylinux_2_28_x86_64.whl.metadata (5.5 kB)\n",
      "Collecting cycler>=0.10 (from matplotlib!=3.6.1,>=3.4->seaborn)\n",
      "  Downloading cycler-0.12.1-py3-none-any.whl.metadata (3.8 kB)\n",
      "Collecting fonttools>=4.22.0 (from matplotlib!=3.6.1,>=3.4->seaborn)\n",
      "  Downloading fonttools-4.59.1-cp311-cp311-manylinux2014_x86_64.manylinux_2_17_x86_64.whl.metadata (108 kB)\n",
      "Collecting kiwisolver>=1.3.1 (from matplotlib!=3.6.1,>=3.4->seaborn)\n",
      "  Downloading kiwisolver-1.4.9-cp311-cp311-manylinux2014_x86_64.manylinux_2_17_x86_64.whl.metadata (6.3 kB)\n",
      "Requirement already satisfied: packaging>=20.0 in /usr/local/lib/python3.11/site-packages (from matplotlib!=3.6.1,>=3.4->seaborn) (25.0)\n",
      "Collecting pillow>=8 (from matplotlib!=3.6.1,>=3.4->seaborn)\n",
      "  Downloading pillow-11.3.0-cp311-cp311-manylinux_2_27_x86_64.manylinux_2_28_x86_64.whl.metadata (9.0 kB)\n",
      "Collecting pyparsing>=2.3.1 (from matplotlib!=3.6.1,>=3.4->seaborn)\n",
      "  Downloading pyparsing-3.2.3-py3-none-any.whl.metadata (5.0 kB)\n",
      "Requirement already satisfied: six>=1.5 in /usr/local/lib/python3.11/site-packages (from python-dateutil>=2.8.2->pandas) (1.17.0)\n",
      "Collecting mpmath<1.4,>=1.1.0 (from sympy>=1.13.3->torch)\n",
      "  Downloading mpmath-1.3.0-py3-none-any.whl.metadata (8.6 kB)\n",
      "Requirement already satisfied: MarkupSafe>=2.0 in /usr/local/lib/python3.11/site-packages (from jinja2->torch) (3.0.2)\n",
      "Downloading tqdm-4.67.1-py3-none-any.whl (78 kB)\n",
      "Downloading numpy-2.3.2-cp311-cp311-manylinux_2_27_x86_64.manylinux_2_28_x86_64.whl (16.9 MB)\n",
      "\u001b[2K   \u001b[90m━━━━━━━━━━━━━━━━━━━━━━━━━━━━━━━━━━━━━━━━\u001b[0m \u001b[32m16.9/16.9 MB\u001b[0m \u001b[31m62.6 MB/s\u001b[0m eta \u001b[36m0:00:00\u001b[0ma \u001b[36m0:00:01\u001b[0m\n",
      "\u001b[?25hDownloading pandas-2.3.1-cp311-cp311-manylinux_2_17_x86_64.manylinux2014_x86_64.whl (12.4 MB)\n",
      "\u001b[2K   \u001b[90m━━━━━━━━━━━━━━━━━━━━━━━━━━━━━━━━━━━━━━━━\u001b[0m \u001b[32m12.4/12.4 MB\u001b[0m \u001b[31m55.6 MB/s\u001b[0m eta \u001b[36m0:00:00\u001b[0ma \u001b[36m0:00:01\u001b[0m\n",
      "\u001b[?25hDownloading torch-2.8.0-cp311-cp311-manylinux_2_28_x86_64.whl (888.1 MB)\n",
      "\u001b[2K   \u001b[90m━━━━━━━━━━━━━━━━━━━━━━━━━━━━━━━━━━━━━━━\u001b[0m \u001b[32m888.1/888.1 MB\u001b[0m \u001b[31m100.4 MB/s\u001b[0m eta \u001b[36m0:00:00\u001b[0m00:01\u001b[0m00:01\u001b[0m\n",
      "\u001b[?25hDownloading nvidia_cublas_cu12-12.8.4.1-py3-none-manylinux_2_27_x86_64.whl (594.3 MB)\n",
      "\u001b[2K   \u001b[90m━━━━━━━━━━━━━━━━━━━━━━━━━━━━━━━━━━━━━━━\u001b[0m \u001b[32m594.3/594.3 MB\u001b[0m \u001b[31m117.3 MB/s\u001b[0m eta \u001b[36m0:00:00\u001b[0ma \u001b[36m0:00:01\u001b[0m\n",
      "\u001b[?25hDownloading nvidia_cuda_cupti_cu12-12.8.90-py3-none-manylinux2014_x86_64.manylinux_2_17_x86_64.whl (10.2 MB)\n",
      "\u001b[2K   \u001b[90m━━━━━━━━━━━━━━━━━━━━━━━━━━━━━━━━━━━━━━━━\u001b[0m \u001b[32m10.2/10.2 MB\u001b[0m \u001b[31m118.7 MB/s\u001b[0m eta \u001b[36m0:00:00\u001b[0m\n",
      "\u001b[?25hDownloading nvidia_cuda_nvrtc_cu12-12.8.93-py3-none-manylinux2010_x86_64.manylinux_2_12_x86_64.whl (88.0 MB)\n",
      "\u001b[2K   \u001b[90m━━━━━━━━━━━━━━━━━━━━━━━━━━━━━━━━━━━━━━━━\u001b[0m \u001b[32m88.0/88.0 MB\u001b[0m \u001b[31m107.5 MB/s\u001b[0m eta \u001b[36m0:00:00\u001b[0ma \u001b[36m0:00:01\u001b[0m\n",
      "\u001b[?25hDownloading nvidia_cuda_runtime_cu12-12.8.90-py3-none-manylinux2014_x86_64.manylinux_2_17_x86_64.whl (954 kB)\n",
      "\u001b[2K   \u001b[90m━━━━━━━━━━━━━━━━━━━━━━━━━━━━━━━━━━━━━━━\u001b[0m \u001b[32m954.8/954.8 kB\u001b[0m \u001b[31m139.0 MB/s\u001b[0m eta \u001b[36m0:00:00\u001b[0m\n",
      "\u001b[?25hDownloading nvidia_cudnn_cu12-9.10.2.21-py3-none-manylinux_2_27_x86_64.whl (706.8 MB)\n",
      "\u001b[2K   \u001b[90m━━━━━━━━━━━━━━━━━━━━━━━━━━━━━━━━━━━━━━━\u001b[0m \u001b[32m706.8/706.8 MB\u001b[0m \u001b[31m119.4 MB/s\u001b[0m eta \u001b[36m0:00:00\u001b[0m00:01\u001b[0m00:01\u001b[0m\n",
      "\u001b[?25hDownloading nvidia_cufft_cu12-11.3.3.83-py3-none-manylinux2014_x86_64.manylinux_2_17_x86_64.whl (193.1 MB)\n",
      "\u001b[2K   \u001b[90m━━━━━━━━━━━━━━━━━━━━━━━━━━━━━━━━━━━━━━━\u001b[0m \u001b[32m193.1/193.1 MB\u001b[0m \u001b[31m117.2 MB/s\u001b[0m eta \u001b[36m0:00:00\u001b[0m00:01\u001b[0m00:01\u001b[0m\n",
      "\u001b[?25hDownloading nvidia_cufile_cu12-1.13.1.3-py3-none-manylinux2014_x86_64.manylinux_2_17_x86_64.whl (1.2 MB)\n",
      "\u001b[2K   \u001b[90m━━━━━━━━━━━━━━━━━━━━━━━━━━━━━━━━━━━━━━━━\u001b[0m \u001b[32m1.2/1.2 MB\u001b[0m \u001b[31m126.2 MB/s\u001b[0m eta \u001b[36m0:00:00\u001b[0m\n",
      "\u001b[?25hDownloading nvidia_curand_cu12-10.3.9.90-py3-none-manylinux_2_27_x86_64.whl (63.6 MB)\n",
      "\u001b[2K   \u001b[90m━━━━━━━━━━━━━━━━━━━━━━━━━━━━━━━━━━━━━━━━\u001b[0m \u001b[32m63.6/63.6 MB\u001b[0m \u001b[31m115.1 MB/s\u001b[0m eta \u001b[36m0:00:00\u001b[0ma \u001b[36m0:00:01\u001b[0m\n",
      "\u001b[?25hDownloading nvidia_cusolver_cu12-11.7.3.90-py3-none-manylinux_2_27_x86_64.whl (267.5 MB)\n",
      "\u001b[2K   \u001b[90m━━━━━━━━━━━━━━━━━━━━━━━━━━━━━━━━━━━━━━━\u001b[0m \u001b[32m267.5/267.5 MB\u001b[0m \u001b[31m111.9 MB/s\u001b[0m eta \u001b[36m0:00:00\u001b[0m00:01\u001b[0m00:01\u001b[0m\n",
      "\u001b[?25hDownloading nvidia_cusparse_cu12-12.5.8.93-py3-none-manylinux2014_x86_64.manylinux_2_17_x86_64.whl (288.2 MB)\n",
      "\u001b[2K   \u001b[90m━━━━━━━━━━━━━━━━━━━━━━━━━━━━━━━━━━━━━━━\u001b[0m \u001b[32m288.2/288.2 MB\u001b[0m \u001b[31m118.3 MB/s\u001b[0m eta \u001b[36m0:00:00\u001b[0m00:01\u001b[0m00:01\u001b[0m\n",
      "\u001b[?25hDownloading nvidia_cusparselt_cu12-0.7.1-py3-none-manylinux2014_x86_64.whl (287.2 MB)\n",
      "\u001b[2K   \u001b[90m━━━━━━━━━━━━━━━━━━━━━━━━━━━━━━━━━━━━━━━\u001b[0m \u001b[32m287.2/287.2 MB\u001b[0m \u001b[31m117.9 MB/s\u001b[0m eta \u001b[36m0:00:00\u001b[0m00:01\u001b[0m00:01\u001b[0m\n",
      "\u001b[?25hDownloading nvidia_nccl_cu12-2.27.3-py3-none-manylinux2014_x86_64.manylinux_2_17_x86_64.whl (322.4 MB)\n",
      "\u001b[2K   \u001b[90m━━━━━━━━━━━━━━━━━━━━━━━━━━━━━━━━━━━━━━━\u001b[0m \u001b[32m322.4/322.4 MB\u001b[0m \u001b[31m117.4 MB/s\u001b[0m eta \u001b[36m0:00:00\u001b[0ma \u001b[36m0:00:01\u001b[0m\n",
      "\u001b[?25hDownloading nvidia_nvjitlink_cu12-12.8.93-py3-none-manylinux2010_x86_64.manylinux_2_12_x86_64.whl (39.3 MB)\n",
      "\u001b[2K   \u001b[90m━━━━━━━━━━━━━━━━━━━━━━━━━━━━━━━━━━━━━━━━\u001b[0m \u001b[32m39.3/39.3 MB\u001b[0m \u001b[31m119.8 MB/s\u001b[0m eta \u001b[36m0:00:00\u001b[0ma \u001b[36m0:00:01\u001b[0m\n",
      "\u001b[?25hDownloading nvidia_nvtx_cu12-12.8.90-py3-none-manylinux2014_x86_64.manylinux_2_17_x86_64.whl (89 kB)\n",
      "Downloading triton-3.4.0-cp311-cp311-manylinux_2_27_x86_64.manylinux_2_28_x86_64.whl (155.5 MB)\n",
      "\u001b[2K   \u001b[90m━━━━━━━━━━━━━━━━━━━━━━━━━━━━━━━━━━━━━━━\u001b[0m \u001b[32m155.5/155.5 MB\u001b[0m \u001b[31m111.0 MB/s\u001b[0m eta \u001b[36m0:00:00\u001b[0ma \u001b[36m0:00:01\u001b[0m\n",
      "\u001b[?25hDownloading seaborn-0.13.2-py3-none-any.whl (294 kB)\n",
      "Downloading scikit_learn-1.7.1-cp311-cp311-manylinux2014_x86_64.manylinux_2_17_x86_64.whl (9.7 MB)\n",
      "\u001b[2K   \u001b[90m━━━━━━━━━━━━━━━━━━━━━━━━━━━━━━━━━━━━━━━━\u001b[0m \u001b[32m9.7/9.7 MB\u001b[0m \u001b[31m99.9 MB/s\u001b[0m eta \u001b[36m0:00:00\u001b[0m\n",
      "\u001b[?25hDownloading joblib-1.5.1-py3-none-any.whl (307 kB)\n",
      "Downloading matplotlib-3.10.5-cp311-cp311-manylinux2014_x86_64.manylinux_2_17_x86_64.whl (8.7 MB)\n",
      "\u001b[2K   \u001b[90m━━━━━━━━━━━━━━━━━━━━━━━━━━━━━━━━━━━━━━━━\u001b[0m \u001b[32m8.7/8.7 MB\u001b[0m \u001b[31m98.5 MB/s\u001b[0m eta \u001b[36m0:00:00\u001b[0m\n",
      "\u001b[?25hDownloading contourpy-1.3.3-cp311-cp311-manylinux_2_27_x86_64.manylinux_2_28_x86_64.whl (355 kB)\n",
      "Downloading cycler-0.12.1-py3-none-any.whl (8.3 kB)\n",
      "Downloading fonttools-4.59.1-cp311-cp311-manylinux2014_x86_64.manylinux_2_17_x86_64.whl (5.0 MB)\n",
      "\u001b[2K   \u001b[90m━━━━━━━━━━━━━━━━━━━━━━━━━━━━━━━━━━━━━━━━\u001b[0m \u001b[32m5.0/5.0 MB\u001b[0m \u001b[31m101.4 MB/s\u001b[0m eta \u001b[36m0:00:00\u001b[0m\n",
      "\u001b[?25hDownloading kiwisolver-1.4.9-cp311-cp311-manylinux2014_x86_64.manylinux_2_17_x86_64.whl (1.4 MB)\n",
      "\u001b[2K   \u001b[90m━━━━━━━━━━━━━━━━━━━━━━━━━━━━━━━━━━━━━━━━\u001b[0m \u001b[32m1.4/1.4 MB\u001b[0m \u001b[31m62.7 MB/s\u001b[0m eta \u001b[36m0:00:00\u001b[0m\n",
      "\u001b[?25hDownloading pillow-11.3.0-cp311-cp311-manylinux_2_27_x86_64.manylinux_2_28_x86_64.whl (6.6 MB)\n",
      "\u001b[2K   \u001b[90m━━━━━━━━━━━━━━━━━━━━━━━━━━━━━━━━━━━━━━━━\u001b[0m \u001b[32m6.6/6.6 MB\u001b[0m \u001b[31m96.5 MB/s\u001b[0m eta \u001b[36m0:00:00\u001b[0m\n",
      "\u001b[?25hDownloading pyparsing-3.2.3-py3-none-any.whl (111 kB)\n",
      "Downloading pytz-2025.2-py2.py3-none-any.whl (509 kB)\n",
      "Downloading scipy-1.16.1-cp311-cp311-manylinux2014_x86_64.manylinux_2_17_x86_64.whl (35.4 MB)\n",
      "\u001b[2K   \u001b[90m━━━━━━━━━━━━━━━━━━━━━━━━━━━━━━━━━━━━━━━━\u001b[0m \u001b[32m35.4/35.4 MB\u001b[0m \u001b[31m105.7 MB/s\u001b[0m eta \u001b[36m0:00:00\u001b[0m \u001b[36m0:00:01\u001b[0m\n",
      "\u001b[?25hDownloading sympy-1.14.0-py3-none-any.whl (6.3 MB)\n",
      "\u001b[2K   \u001b[90m━━━━━━━━━━━━━━━━━━━━━━━━━━━━━━━━━━━━━━━━\u001b[0m \u001b[32m6.3/6.3 MB\u001b[0m \u001b[31m96.3 MB/s\u001b[0m eta \u001b[36m0:00:00\u001b[0m\n",
      "\u001b[?25hDownloading mpmath-1.3.0-py3-none-any.whl (536 kB)\n",
      "\u001b[2K   \u001b[90m━━━━━━━━━━━━━━━━━━━━━━━━━━━━━━━━━━━━━━━\u001b[0m \u001b[32m536.2/536.2 kB\u001b[0m \u001b[31m167.6 MB/s\u001b[0m eta \u001b[36m0:00:00\u001b[0m\n",
      "\u001b[?25hDownloading threadpoolctl-3.6.0-py3-none-any.whl (18 kB)\n",
      "Downloading tzdata-2025.2-py2.py3-none-any.whl (347 kB)\n",
      "Downloading filelock-3.19.1-py3-none-any.whl (15 kB)\n",
      "Downloading fsspec-2025.7.0-py3-none-any.whl (199 kB)\n",
      "Downloading networkx-3.5-py3-none-any.whl (2.0 MB)\n",
      "\u001b[2K   \u001b[90m━━━━━━━━━━━━━━━━━━━━━━━━━━━━━━━━━━━━━━━━\u001b[0m \u001b[32m2.0/2.0 MB\u001b[0m \u001b[31m167.3 MB/s\u001b[0m eta \u001b[36m0:00:00\u001b[0m\n",
      "\u001b[?25hInstalling collected packages: pytz, nvidia-cusparselt-cu12, mpmath, tzdata, triton, tqdm, threadpoolctl, sympy, pyparsing, pillow, nvidia-nvtx-cu12, nvidia-nvjitlink-cu12, nvidia-nccl-cu12, nvidia-curand-cu12, nvidia-cufile-cu12, nvidia-cuda-runtime-cu12, nvidia-cuda-nvrtc-cu12, nvidia-cuda-cupti-cu12, nvidia-cublas-cu12, numpy, networkx, kiwisolver, joblib, fsspec, fonttools, filelock, cycler, scipy, pandas, nvidia-cusparse-cu12, nvidia-cufft-cu12, nvidia-cudnn-cu12, contourpy, scikit-learn, nvidia-cusolver-cu12, matplotlib, torch, seaborn\n",
      "\u001b[2K   \u001b[90m━━━━━━━━━━━━━━━━━━━━━━━━━━━━━━━━━━━━━━━━\u001b[0m \u001b[32m38/38\u001b[0m [seaborn]7/38\u001b[0m [seaborn]ib]lver-cu12]2]2]\n",
      "\u001b[1A\u001b[2KSuccessfully installed contourpy-1.3.3 cycler-0.12.1 filelock-3.19.1 fonttools-4.59.1 fsspec-2025.7.0 joblib-1.5.1 kiwisolver-1.4.9 matplotlib-3.10.5 mpmath-1.3.0 networkx-3.5 numpy-2.3.2 nvidia-cublas-cu12-12.8.4.1 nvidia-cuda-cupti-cu12-12.8.90 nvidia-cuda-nvrtc-cu12-12.8.93 nvidia-cuda-runtime-cu12-12.8.90 nvidia-cudnn-cu12-9.10.2.21 nvidia-cufft-cu12-11.3.3.83 nvidia-cufile-cu12-1.13.1.3 nvidia-curand-cu12-10.3.9.90 nvidia-cusolver-cu12-11.7.3.90 nvidia-cusparse-cu12-12.5.8.93 nvidia-cusparselt-cu12-0.7.1 nvidia-nccl-cu12-2.27.3 nvidia-nvjitlink-cu12-12.8.93 nvidia-nvtx-cu12-12.8.90 pandas-2.3.1 pillow-11.3.0 pyparsing-3.2.3 pytz-2025.2 scikit-learn-1.7.1 scipy-1.16.1 seaborn-0.13.2 sympy-1.14.0 threadpoolctl-3.6.0 torch-2.8.0 tqdm-4.67.1 triton-3.4.0 tzdata-2025.2\n",
      "\n",
      "\u001b[1m[\u001b[0m\u001b[34;49mnotice\u001b[0m\u001b[1;39;49m]\u001b[0m\u001b[39;49m A new release of pip is available: \u001b[0m\u001b[31;49m25.1.1\u001b[0m\u001b[39;49m -> \u001b[0m\u001b[32;49m25.2\u001b[0m\n",
      "\u001b[1m[\u001b[0m\u001b[34;49mnotice\u001b[0m\u001b[1;39;49m]\u001b[0m\u001b[39;49m To update, run: \u001b[0m\u001b[32;49mpip install --upgrade pip\u001b[0m\n"
     ]
    }
   ],
   "source": [
    "! pip install tqdm numpy pandas torch seaborn scikit-learn"
   ]
  },
  {
   "cell_type": "code",
   "execution_count": null,
   "id": "a9a59816",
   "metadata": {},
   "outputs": [],
   "source": [
    "import sys\n",
    "sys.path.append(\"mount/cnn_ensemble_seq_generation\")"
   ]
  },
  {
   "cell_type": "code",
   "execution_count": 3,
   "id": "1c1efcc6-9325-4b14-9b1e-b44990e5ff27",
   "metadata": {
    "editable": true,
    "slideshow": {
     "slide_type": ""
    },
    "tags": [
     "hide-cell"
    ]
   },
   "outputs": [],
   "source": [
    "from collections import defaultdict\n",
    "from pathlib import Path\n",
    "import random\n",
    "from tqdm import tqdm\n",
    "from typing import List, Set\n",
    "\n",
    "import numpy as np\n",
    "import pandas as pd\n",
    "import torch\n",
    "import seaborn as sns\n",
    "\n",
    "import src.data as data\n",
    "import src.models as models\n",
    "import src.training as training"
   ]
  },
  {
   "cell_type": "markdown",
   "id": "79f61586-8a64-44b7-a892-a242995d1f96",
   "metadata": {
    "jp-MarkdownHeadingCollapsed": true,
    "tags": []
   },
   "source": [
    "# Data"
   ]
  },
  {
   "cell_type": "code",
   "execution_count": 4,
   "id": "c6b59791-79bc-4ff0-9f8d-df343326ce06",
   "metadata": {
    "tags": []
   },
   "outputs": [],
   "source": [
    "df = pd.read_csv(\"mount/data/esm2_15b_embeddings_and_meta.csv\")"
   ]
  },
  {
   "cell_type": "markdown",
   "id": "807cc9ce-3abe-41e3-b117-671e4e28ec8c",
   "metadata": {
    "tags": []
   },
   "source": [
    "# Training"
   ]
  },
  {
   "cell_type": "markdown",
   "id": "67a9ee17-d509-4d68-885b-ef3b1a131cd1",
   "metadata": {
    "jp-MarkdownHeadingCollapsed": true,
    "tags": []
   },
   "source": [
    "## Config"
   ]
  },
  {
   "cell_type": "code",
   "execution_count": null,
   "id": "7b82c5c0-58f6-4c12-83b4-7246979f9dd1",
   "metadata": {
    "tags": []
   },
   "outputs": [],
   "source": [
    "class TrainingConfig:\n",
    "    def __init__(self):\n",
    "        self.learning_rate = 1e-3\n",
    "        self.batch_size = 64\n",
    "        self.epochs = 200\n",
    "        self.weight_decay = 0.01\n",
    "        self.gradient_clip = 1.0"
   ]
  },
  {
   "cell_type": "code",
   "execution_count": 6,
   "id": "e53e5775-c42e-4ed1-bbba-5d95f9b7ac6b",
   "metadata": {
    "tags": []
   },
   "outputs": [],
   "source": [
    "config = TrainingConfig()"
   ]
  },
  {
   "cell_type": "code",
   "execution_count": 7,
   "id": "66775fc4-6a45-4a67-8c87-822f50df267f",
   "metadata": {
    "tags": []
   },
   "outputs": [],
   "source": [
    "device = 'cuda'"
   ]
  },
  {
   "cell_type": "markdown",
   "id": "26775fca-29a8-4660-bf98-3bbd242142f4",
   "metadata": {
    "jp-MarkdownHeadingCollapsed": true,
    "tags": []
   },
   "source": [
    "## Data holders"
   ]
  },
  {
   "cell_type": "code",
   "execution_count": 8,
   "id": "842aa3b7-c3f2-40a4-b77c-b880e052edc9",
   "metadata": {
    "tags": []
   },
   "outputs": [],
   "source": [
    "data_holder = data.ESMDataHolder(df)"
   ]
  },
  {
   "cell_type": "code",
   "execution_count": null,
   "id": "fb7c51fe-ad1b-462f-b3a4-63efd4c10d60",
   "metadata": {
    "tags": []
   },
   "outputs": [],
   "source": [
    "all_loader = data_holder.loader_all_data()"
   ]
  },
  {
   "cell_type": "code",
   "execution_count": 10,
   "id": "e2d76193-9e70-415f-8c86-d0c58dc181b2",
   "metadata": {
    "tags": []
   },
   "outputs": [],
   "source": [
    "train_loader, val_loader = data_holder.train_val_split()"
   ]
  },
  {
   "cell_type": "markdown",
   "id": "5215f5a3-723a-4908-a5e4-74cf29f2add5",
   "metadata": {
    "tags": []
   },
   "source": [
    "## CNN Ensemble"
   ]
  },
  {
   "cell_type": "code",
   "execution_count": 11,
   "id": "d02a11c8-e317-4704-b7bd-b2598ff2bc46",
   "metadata": {
    "tags": []
   },
   "outputs": [],
   "source": [
    "model = models.Ensemble().to(\"cuda\")"
   ]
  },
  {
   "cell_type": "code",
   "execution_count": 12,
   "id": "f8800e02-cdbf-4c12-8561-69e2a778267d",
   "metadata": {
    "tags": []
   },
   "outputs": [
    {
     "name": "stderr",
     "output_type": "stream",
     "text": [
      "  8%|▊         | 15/200 [01:59<24:38,  7.99s/it, train_loss=0.3362, val_loss=4.9621]Exception ignored in: <bound method Random.seed of <random.Random object at 0x56548d8e9990>>\n",
      "\n",
      "Traceback (most recent call last):\n",
      "  File \"/usr/local/lib/python3.11/random.py\", line 163, in seed\n",
      "    super().seed(a)\n",
      "KeyboardInterrupt: \n"
     ]
    },
    {
     "ename": "KeyboardInterrupt",
     "evalue": "",
     "output_type": "error",
     "traceback": [
      "\u001b[31m---------------------------------------------------------------------------\u001b[39m",
      "\u001b[31mKeyboardInterrupt\u001b[39m                         Traceback (most recent call last)",
      "\u001b[36mCell\u001b[39m\u001b[36m \u001b[39m\u001b[32mIn[12]\u001b[39m\u001b[32m, line 1\u001b[39m\n\u001b[32m----> \u001b[39m\u001b[32m1\u001b[39m model = \u001b[43mtraining\u001b[49m\u001b[43m.\u001b[49m\u001b[43mtrain_variant_cnn\u001b[49m\u001b[43m(\u001b[49m\u001b[43mmodel\u001b[49m\u001b[43m,\u001b[49m\u001b[43m \u001b[49m\u001b[43mtrain_loader\u001b[49m\u001b[43m,\u001b[49m\u001b[43m \u001b[49m\u001b[43mval_loader\u001b[49m\u001b[43m,\u001b[49m\u001b[43m \u001b[49m\u001b[43mconfig\u001b[49m\u001b[43m,\u001b[49m\u001b[43m \u001b[49m\u001b[43mdevice\u001b[49m\u001b[43m,\u001b[49m\u001b[43m \u001b[49m\u001b[43mupdates\u001b[49m\u001b[43m=\u001b[49m\u001b[38;5;28;43;01mTrue\u001b[39;49;00m\u001b[43m)\u001b[49m\n",
      "\u001b[36mFile \u001b[39m\u001b[32m~/lab/mount/cnn_ensemble_seq_generation/src/training.py:62\u001b[39m, in \u001b[36mtrain_variant_cnn\u001b[39m\u001b[34m(model, train_loader, val_loader, config, device, updates)\u001b[39m\n\u001b[32m     59\u001b[39m val_labels = []\n\u001b[32m     61\u001b[39m \u001b[38;5;28;01mwith\u001b[39;00m torch.no_grad():\n\u001b[32m---> \u001b[39m\u001b[32m62\u001b[39m \u001b[43m    \u001b[49m\u001b[38;5;28;43;01mfor\u001b[39;49;00m\u001b[43m \u001b[49m\u001b[43membeddings\u001b[49m\u001b[43m,\u001b[49m\u001b[43m \u001b[49m\u001b[43mlabels\u001b[49m\u001b[43m \u001b[49m\u001b[38;5;129;43;01min\u001b[39;49;00m\u001b[43m \u001b[49m\u001b[43mval_loader\u001b[49m\u001b[43m:\u001b[49m\n\u001b[32m     63\u001b[39m \u001b[43m        \u001b[49m\u001b[43membeddings\u001b[49m\u001b[43m \u001b[49m\u001b[43m=\u001b[49m\u001b[43m \u001b[49m\u001b[43membeddings\u001b[49m\u001b[43m.\u001b[49m\u001b[43mto\u001b[49m\u001b[43m(\u001b[49m\u001b[43mdevice\u001b[49m\u001b[43m)\u001b[49m\n\u001b[32m     64\u001b[39m \u001b[43m        \u001b[49m\u001b[43mlabels\u001b[49m\u001b[43m \u001b[49m\u001b[43m=\u001b[49m\u001b[43m \u001b[49m\u001b[43mlabels\u001b[49m\u001b[43m.\u001b[49m\u001b[43mto\u001b[49m\u001b[43m(\u001b[49m\u001b[43mdevice\u001b[49m\u001b[43m)\u001b[49m\n",
      "\u001b[36mFile \u001b[39m\u001b[32m/usr/local/lib/python3.11/site-packages/torch/utils/data/dataloader.py:494\u001b[39m, in \u001b[36mDataLoader.__iter__\u001b[39m\u001b[34m(self)\u001b[39m\n\u001b[32m    492\u001b[39m     \u001b[38;5;28;01mreturn\u001b[39;00m \u001b[38;5;28mself\u001b[39m._iterator\n\u001b[32m    493\u001b[39m \u001b[38;5;28;01melse\u001b[39;00m:\n\u001b[32m--> \u001b[39m\u001b[32m494\u001b[39m     \u001b[38;5;28;01mreturn\u001b[39;00m \u001b[38;5;28;43mself\u001b[39;49m\u001b[43m.\u001b[49m\u001b[43m_get_iterator\u001b[49m\u001b[43m(\u001b[49m\u001b[43m)\u001b[49m\n",
      "\u001b[36mFile \u001b[39m\u001b[32m/usr/local/lib/python3.11/site-packages/torch/utils/data/dataloader.py:427\u001b[39m, in \u001b[36mDataLoader._get_iterator\u001b[39m\u001b[34m(self)\u001b[39m\n\u001b[32m    425\u001b[39m \u001b[38;5;28;01melse\u001b[39;00m:\n\u001b[32m    426\u001b[39m     \u001b[38;5;28mself\u001b[39m.check_worker_number_rationality()\n\u001b[32m--> \u001b[39m\u001b[32m427\u001b[39m     \u001b[38;5;28;01mreturn\u001b[39;00m \u001b[43m_MultiProcessingDataLoaderIter\u001b[49m\u001b[43m(\u001b[49m\u001b[38;5;28;43mself\u001b[39;49m\u001b[43m)\u001b[49m\n",
      "\u001b[36mFile \u001b[39m\u001b[32m/usr/local/lib/python3.11/site-packages/torch/utils/data/dataloader.py:1172\u001b[39m, in \u001b[36m_MultiProcessingDataLoaderIter.__init__\u001b[39m\u001b[34m(self, loader)\u001b[39m\n\u001b[32m   1165\u001b[39m w.daemon = \u001b[38;5;28;01mTrue\u001b[39;00m\n\u001b[32m   1166\u001b[39m \u001b[38;5;66;03m# NB: Process.start() actually take some time as it needs to\u001b[39;00m\n\u001b[32m   1167\u001b[39m \u001b[38;5;66;03m#     start a process and pass the arguments over via a pipe.\u001b[39;00m\n\u001b[32m   1168\u001b[39m \u001b[38;5;66;03m#     Therefore, we only add a worker to self._workers list after\u001b[39;00m\n\u001b[32m   1169\u001b[39m \u001b[38;5;66;03m#     it started, so that we do not call .join() if program dies\u001b[39;00m\n\u001b[32m   1170\u001b[39m \u001b[38;5;66;03m#     before it starts, and __del__ tries to join but will get:\u001b[39;00m\n\u001b[32m   1171\u001b[39m \u001b[38;5;66;03m#     AssertionError: can only join a started process.\u001b[39;00m\n\u001b[32m-> \u001b[39m\u001b[32m1172\u001b[39m \u001b[43mw\u001b[49m\u001b[43m.\u001b[49m\u001b[43mstart\u001b[49m\u001b[43m(\u001b[49m\u001b[43m)\u001b[49m\n\u001b[32m   1173\u001b[39m \u001b[38;5;28mself\u001b[39m._index_queues.append(index_queue)\n\u001b[32m   1174\u001b[39m \u001b[38;5;28mself\u001b[39m._workers.append(w)\n",
      "\u001b[36mFile \u001b[39m\u001b[32m/usr/local/lib/python3.11/multiprocessing/process.py:121\u001b[39m, in \u001b[36mBaseProcess.start\u001b[39m\u001b[34m(self)\u001b[39m\n\u001b[32m    118\u001b[39m \u001b[38;5;28;01massert\u001b[39;00m \u001b[38;5;129;01mnot\u001b[39;00m _current_process._config.get(\u001b[33m'\u001b[39m\u001b[33mdaemon\u001b[39m\u001b[33m'\u001b[39m), \\\n\u001b[32m    119\u001b[39m        \u001b[33m'\u001b[39m\u001b[33mdaemonic processes are not allowed to have children\u001b[39m\u001b[33m'\u001b[39m\n\u001b[32m    120\u001b[39m _cleanup()\n\u001b[32m--> \u001b[39m\u001b[32m121\u001b[39m \u001b[38;5;28mself\u001b[39m._popen = \u001b[38;5;28;43mself\u001b[39;49m\u001b[43m.\u001b[49m\u001b[43m_Popen\u001b[49m\u001b[43m(\u001b[49m\u001b[38;5;28;43mself\u001b[39;49m\u001b[43m)\u001b[49m\n\u001b[32m    122\u001b[39m \u001b[38;5;28mself\u001b[39m._sentinel = \u001b[38;5;28mself\u001b[39m._popen.sentinel\n\u001b[32m    123\u001b[39m \u001b[38;5;66;03m# Avoid a refcycle if the target function holds an indirect\u001b[39;00m\n\u001b[32m    124\u001b[39m \u001b[38;5;66;03m# reference to the process object (see bpo-30775)\u001b[39;00m\n",
      "\u001b[36mFile \u001b[39m\u001b[32m/usr/local/lib/python3.11/multiprocessing/context.py:224\u001b[39m, in \u001b[36mProcess._Popen\u001b[39m\u001b[34m(process_obj)\u001b[39m\n\u001b[32m    222\u001b[39m \u001b[38;5;129m@staticmethod\u001b[39m\n\u001b[32m    223\u001b[39m \u001b[38;5;28;01mdef\u001b[39;00m\u001b[38;5;250m \u001b[39m\u001b[34m_Popen\u001b[39m(process_obj):\n\u001b[32m--> \u001b[39m\u001b[32m224\u001b[39m     \u001b[38;5;28;01mreturn\u001b[39;00m \u001b[43m_default_context\u001b[49m\u001b[43m.\u001b[49m\u001b[43mget_context\u001b[49m\u001b[43m(\u001b[49m\u001b[43m)\u001b[49m\u001b[43m.\u001b[49m\u001b[43mProcess\u001b[49m\u001b[43m.\u001b[49m\u001b[43m_Popen\u001b[49m\u001b[43m(\u001b[49m\u001b[43mprocess_obj\u001b[49m\u001b[43m)\u001b[49m\n",
      "\u001b[36mFile \u001b[39m\u001b[32m/usr/local/lib/python3.11/multiprocessing/context.py:281\u001b[39m, in \u001b[36mForkProcess._Popen\u001b[39m\u001b[34m(process_obj)\u001b[39m\n\u001b[32m    278\u001b[39m \u001b[38;5;129m@staticmethod\u001b[39m\n\u001b[32m    279\u001b[39m \u001b[38;5;28;01mdef\u001b[39;00m\u001b[38;5;250m \u001b[39m\u001b[34m_Popen\u001b[39m(process_obj):\n\u001b[32m    280\u001b[39m     \u001b[38;5;28;01mfrom\u001b[39;00m\u001b[38;5;250m \u001b[39m\u001b[34;01m.\u001b[39;00m\u001b[34;01mpopen_fork\u001b[39;00m\u001b[38;5;250m \u001b[39m\u001b[38;5;28;01mimport\u001b[39;00m Popen\n\u001b[32m--> \u001b[39m\u001b[32m281\u001b[39m     \u001b[38;5;28;01mreturn\u001b[39;00m \u001b[43mPopen\u001b[49m\u001b[43m(\u001b[49m\u001b[43mprocess_obj\u001b[49m\u001b[43m)\u001b[49m\n",
      "\u001b[36mFile \u001b[39m\u001b[32m/usr/local/lib/python3.11/multiprocessing/popen_fork.py:19\u001b[39m, in \u001b[36mPopen.__init__\u001b[39m\u001b[34m(self, process_obj)\u001b[39m\n\u001b[32m     17\u001b[39m \u001b[38;5;28mself\u001b[39m.returncode = \u001b[38;5;28;01mNone\u001b[39;00m\n\u001b[32m     18\u001b[39m \u001b[38;5;28mself\u001b[39m.finalizer = \u001b[38;5;28;01mNone\u001b[39;00m\n\u001b[32m---> \u001b[39m\u001b[32m19\u001b[39m \u001b[38;5;28;43mself\u001b[39;49m\u001b[43m.\u001b[49m\u001b[43m_launch\u001b[49m\u001b[43m(\u001b[49m\u001b[43mprocess_obj\u001b[49m\u001b[43m)\u001b[49m\n",
      "\u001b[36mFile \u001b[39m\u001b[32m/usr/local/lib/python3.11/multiprocessing/popen_fork.py:64\u001b[39m, in \u001b[36mPopen._launch\u001b[39m\u001b[34m(self, process_obj)\u001b[39m\n\u001b[32m     62\u001b[39m \u001b[38;5;28;01mdef\u001b[39;00m\u001b[38;5;250m \u001b[39m\u001b[34m_launch\u001b[39m(\u001b[38;5;28mself\u001b[39m, process_obj):\n\u001b[32m     63\u001b[39m     code = \u001b[32m1\u001b[39m\n\u001b[32m---> \u001b[39m\u001b[32m64\u001b[39m     parent_r, child_w = \u001b[43mos\u001b[49m\u001b[43m.\u001b[49m\u001b[43mpipe\u001b[49m\u001b[43m(\u001b[49m\u001b[43m)\u001b[49m\n\u001b[32m     65\u001b[39m     child_r, parent_w = os.pipe()\n\u001b[32m     66\u001b[39m     \u001b[38;5;28mself\u001b[39m.pid = os.fork()\n",
      "\u001b[31mKeyboardInterrupt\u001b[39m: "
     ]
    }
   ],
   "source": [
    "model = training.train_variant_cnn(model, train_loader, val_loader, config, device, updates=True)"
   ]
  },
  {
   "cell_type": "code",
   "execution_count": null,
   "id": "f23672a6-c974-4f0c-ba96-921f2340e2c6",
   "metadata": {
    "tags": []
   },
   "outputs": [
    {
     "data": {
      "text/plain": [
       "0.8410784006118774"
      ]
     },
     "execution_count": 17,
     "metadata": {},
     "output_type": "execute_result"
    }
   ],
   "source": [
    "training.r2_score_for_model_and_loader(model, val_loader)"
   ]
  },
  {
   "cell_type": "code",
   "execution_count": null,
   "id": "ef10b5ae",
   "metadata": {},
   "outputs": [],
   "source": [
    "# Save the trained model\n",
    "model_path = Path(\"mount/cnn_ensemble_seq_generation/cnn_ensemble_model.pth\")\n",
    "torch.save(model.state_dict(), model_path)"
   ]
  },
  {
   "cell_type": "markdown",
   "id": "9c78598e-6191-4ba4-b0b9-3261e1d655d8",
   "metadata": {
    "tags": []
   },
   "source": [
    "# Generate sequences"
   ]
  },
  {
   "cell_type": "markdown",
   "id": "8ce70920-3443-49d3-8d67-886df51f1e46",
   "metadata": {
    "editable": true,
    "slideshow": {
     "slide_type": ""
    },
    "tags": []
   },
   "source": [
    "## Training CNN ensemble"
   ]
  },
  {
   "cell_type": "markdown",
   "id": "fa17d1af-ccf1-4092-843a-dd463e465854",
   "metadata": {},
   "source": [
    "## Generate sequences at a specific hamming distance"
   ]
  },
  {
   "cell_type": "code",
   "execution_count": null,
   "id": "bd0f3f7c-13da-4405-a827-e5270c1830d0",
   "metadata": {
    "tags": []
   },
   "outputs": [],
   "source": [
    "def generate_mutant_sequences(wt_sequence: str, n_mutations: int = 4, n_sequences: int = 10) -> List[str]:\n",
    "    \"\"\"\n",
    "    Generate protein sequences with exactly n mutations from a wild-type sequence.\n",
    "    \n",
    "    Args:\n",
    "        wt_sequence (str): Wild-type protein sequence using single letter amino acid codes\n",
    "        n_mutations (int): Number of mutations per sequence\n",
    "        n_sequences (int): Number of mutant sequences to generate\n",
    "    \n",
    "    Returns:\n",
    "        List[str]: List of mutated sequences\n",
    "    \n",
    "    Raises:\n",
    "        ValueError: If inputs are invalid\n",
    "    \"\"\"\n",
    "    VALID_AA = set('ACDEFGHIKLMNPQRSTVWY')\n",
    "\n",
    "    def mutate_sequence(seq: str, positions: List[int]) -> str:\n",
    "        seq_list = list(seq)\n",
    "        key = []\n",
    "        for pos in positions:\n",
    "            \n",
    "            # Get all possible mutations at this position\n",
    "            possible_mutations = VALID_AA - {seq[pos]}\n",
    "\n",
    "            mutation = random.choice(list(possible_mutations))\n",
    "            seq_list[pos] = mutation\n",
    "            key.append(f\"{pos}{mutation}\")\n",
    "        return \":\".join(key), ''.join(seq_list)\n",
    "    \n",
    "    generated_sequences: Set[str] = set()\n",
    "    \n",
    "    while len(generated_sequences) < n_sequences:\n",
    "        mutation_positions = random.sample(range(len(wt_sequence)), n_mutations)\n",
    "        key, new_sequence = mutate_sequence(wt_sequence, mutation_positions)\n",
    "        \n",
    "        if new_sequence not in generated_sequences:\n",
    "            generated_sequences.add((key, new_sequence))\n",
    "            \n",
    "    return list(generated_sequences)"
   ]
  },
  {
   "cell_type": "code",
   "execution_count": 13,
   "id": "dbb0e011",
   "metadata": {},
   "outputs": [],
   "source": [
    "wt_seq = \"MSKGEELFTGVVPILVELDGDVNGHKFSVSGEGEGDATYGKLTLKFICTTGKLPVPWPTLVTTLSYGVQCFSRYPDHMKQHDFFKSAMPEGYVQERTIFFKDDGNYKTRAEVKFEGDTLVNRIELKGIDFKEDGNILGHKLEYNYNSHNVYIMADKQKNGIKVNFKIRHNIEDGSVQLADHYQQNTPIGDGPVLLPDNHYLSTQSALSKDPNEKRDHMVLLEFVTAAGITHGMDELYK\""
   ]
  },
  {
   "cell_type": "code",
   "execution_count": null,
   "id": "2ea22235-f5c8-4d42-9bf4-20e7da48e8de",
   "metadata": {},
   "outputs": [],
   "source": [
    "mutants = generate_mutant_sequences(wt_seq, n_mutations=4, n_sequences=1000)"
   ]
  },
  {
   "cell_type": "markdown",
   "id": "283512dd-917e-4290-b645-4e92fafc6661",
   "metadata": {},
   "source": [
    "## Filter out existing sequences"
   ]
  },
  {
   "cell_type": "code",
   "execution_count": null,
   "id": "3962fb1a-00c1-41e7-a4fe-df14d2f85d07",
   "metadata": {},
   "outputs": [],
   "source": [
    "df_seqs = pd.read_csv(\"../data/seq_and_score.csv\")"
   ]
  },
  {
   "cell_type": "code",
   "execution_count": null,
   "id": "89fb32eb-93ae-4207-adef-d89519b68392",
   "metadata": {},
   "outputs": [],
   "source": [
    "existing_seqs = set(df_seqs.sequence)"
   ]
  },
  {
   "cell_type": "code",
   "execution_count": null,
   "id": "83475bd7-ed65-4add-893f-8133fc00e16e",
   "metadata": {},
   "outputs": [],
   "source": [
    "new_seqs = [(k, s) for k, s in mutants if s not in existing_seqs]"
   ]
  },
  {
   "cell_type": "code",
   "execution_count": null,
   "id": "c7a5a01a-0f41-4808-8bf1-65c438a632a8",
   "metadata": {},
   "outputs": [],
   "source": [
    "len(new_seqs)"
   ]
  },
  {
   "cell_type": "code",
   "execution_count": null,
   "id": "3bd999b0-8093-4759-999c-74b70731e232",
   "metadata": {},
   "outputs": [],
   "source": [
    "with open(\"outputs/new_seqs.fasta\", \"w\") as fh:\n",
    "    for key, seq in new_seqs:\n",
    "        fh.write(f\">{key}\\n\")\n",
    "        fh.write(f\"{seq}\\n\")"
   ]
  },
  {
   "cell_type": "markdown",
   "id": "fe322862-f995-4310-8201-33dd0b9744ed",
   "metadata": {},
   "source": [
    "## Generate embeddings for new seqs"
   ]
  },
  {
   "cell_type": "code",
   "execution_count": null,
   "id": "c4365625-122a-4c11-af26-6fdebe565c36",
   "metadata": {},
   "outputs": [],
   "source": [
    "! python src/embeddings.py --fasta outputs/new_seqs.fasta --output_dir outputs/new_seq_embeddings --truncation_seq_length 238"
   ]
  },
  {
   "cell_type": "markdown",
   "id": "b83007dc-0460-47d2-8b5b-e0c9ba078f66",
   "metadata": {},
   "source": [
    "## Predict activity for the new seqs"
   ]
  },
  {
   "cell_type": "code",
   "execution_count": 27,
   "id": "59bfd107",
   "metadata": {},
   "outputs": [
    {
     "name": "stdout",
     "output_type": "stream",
     "text": [
      "Processing 100 embedding files...\n"
     ]
    },
    {
     "name": "stderr",
     "output_type": "stream",
     "text": [
      "100%|██████████| 100/100 [00:00<00:00, 245.28it/s]"
     ]
    },
    {
     "name": "stdout",
     "output_type": "stream",
     "text": [
      "Processed 100 sequences\n",
      "Score range: 1.470 to 4.069\n",
      "Results saved to mount/cnn_ensemble_seq_generation/outputs/all_sequences_predictions.csv\n"
     ]
    },
    {
     "name": "stderr",
     "output_type": "stream",
     "text": [
      "\n"
     ]
    }
   ],
   "source": [
    "# Process all sequence embeddings and generate predictions\n",
    "\n",
    "# Loop over all the embeddings in the directory\n",
    "embedding_dir = Path(\"mount/cnn_ensemble_seq_generation/outputs/all_seqs_embeddings/\")\n",
    "embedding_files = list(embedding_dir.glob(\"*.pt\"))\n",
    "\n",
    "labels = []\n",
    "embeddings = []\n",
    "sequences = []\n",
    "\n",
    "print(f\"Processing {len(embedding_files)} embedding files...\")\n",
    "\n",
    "# Extract labels and embeddings from all files\n",
    "for emb_file in tqdm(embedding_files):\n",
    "    data = torch.load(emb_file)\n",
    "    label = data[\"label\"]\n",
    "    embedding = data[\"mean_representations\"][47]  # Use layer 47 like in the previous code\n",
    "    \n",
    "    # Convert label to actual sequence (WT + mutations)\n",
    "    seq = list(wt_seq)\n",
    "    for mutation in label.split(\":\"):\n",
    "        pos = int(mutation[:-1])\n",
    "        new_aa = mutation[-1]\n",
    "        seq[pos] = new_aa\n",
    "    sequence = \"\".join(seq)\n",
    "    \n",
    "    labels.append(label)\n",
    "    embeddings.append(embedding)\n",
    "    sequences.append(sequence)\n",
    "\n",
    "# Convert embeddings to tensor\n",
    "embeddings_tensor = torch.tensor(np.array(embeddings)).to(torch.float).to(\"cuda\")\n",
    "\n",
    "# Generate predictions using the trained model\n",
    "with torch.no_grad():\n",
    "    predictions = model(embeddings_tensor).cpu().detach().numpy().flatten()\n",
    "\n",
    "# Create results dataframe\n",
    "results_df = pd.DataFrame({\n",
    "    \"label\": labels,\n",
    "    \"sequence\": sequences,\n",
    "    \"predicted_score\": predictions\n",
    "})\n",
    "\n",
    "# Sort by predicted score (highest first)\n",
    "results_df = results_df.sort_values(\"predicted_score\", ascending=False)\n",
    "\n",
    "# Save results\n",
    "results_df.to_csv(\"mount/cnn_ensemble_seq_generation/outputs/all_sequences_predictions.csv\", index=False)\n",
    "torch.save(results_df, \"mount/cnn_ensemble_seq_generation/outputs/all_sequences_predictions.pt\")\n",
    "\n",
    "print(f\"Processed {len(results_df)} sequences\")\n",
    "print(f\"Score range: {results_df['predicted_score'].min():.3f} to {results_df['predicted_score'].max():.3f}\")\n",
    "print(f\"Results saved to mount/cnn_ensemble_seq_generation/outputs/all_sequences_predictions.csv\")"
   ]
  },
  {
   "cell_type": "markdown",
   "id": "6648f10e",
   "metadata": {},
   "source": []
  },
  {
   "cell_type": "code",
   "execution_count": null,
   "id": "de0084be-63b8-473d-b225-f5af200c130d",
   "metadata": {
    "tags": []
   },
   "outputs": [],
   "source": [
    "predictions = predicted_activities.cpu().detach().numpy()\n",
    "sorted_indices = np.argsort(predictions)\n",
    "top_variants = np.array(variants)[sorted_indices]\n",
    "top_variants = top_variants[-100:]"
   ]
  },
  {
   "cell_type": "code",
   "execution_count": null,
   "id": "24111e73-bb41-44d0-b303-05fa10f13d7a",
   "metadata": {
    "tags": []
   },
   "outputs": [],
   "source": [
    "seqs = []\n",
    "for variant in top_variants:\n",
    "    seq = list(wt_seq)\n",
    "    for var in variant.split(\":\"):\n",
    "        pos = int(var[:-1])\n",
    "        seq[pos] = var[-1]\n",
    "    seqs.append((variant, \"\".join(seq)))"
   ]
  },
  {
   "cell_type": "code",
   "execution_count": null,
   "id": "2c51a3bb-b9e4-42bf-a0fc-178e6b8b8fb3",
   "metadata": {
    "tags": []
   },
   "outputs": [],
   "source": [
    "with open(\"outputs/new_top_score_seqs.fasta\", \"w\") as fh:\n",
    "    for header, seq in seqs:\n",
    "        fh.write(f\">{header}\\n\")\n",
    "        fh.write(f\"{seq}\\n\")"
   ]
  },
  {
   "cell_type": "code",
   "execution_count": null,
   "id": "8ae0d100-baa9-4354-95dc-a113524b2a9b",
   "metadata": {
    "tags": []
   },
   "outputs": [],
   "source": [
    "! cat outputs/new_top_score_seqs.fasta"
   ]
  },
  {
   "cell_type": "markdown",
   "id": "663ad9b6-1164-44d0-9743-7d93af46a866",
   "metadata": {},
   "source": [
    "## Run sequences through QC"
   ]
  },
  {
   "cell_type": "markdown",
   "id": "2e79edd3-047a-4e7c-b171-48980d344638",
   "metadata": {},
   "source": [
    "## Select highest activity sequences write to file"
   ]
  },
  {
   "cell_type": "code",
   "execution_count": null,
   "id": "89e93d0e",
   "metadata": {},
   "outputs": [],
   "source": [
    "! apt-get update -y && apt-get install -y ca-certificates"
   ]
  },
  {
   "cell_type": "code",
   "execution_count": null,
   "id": "fa13d045",
   "metadata": {},
   "outputs": [],
   "source": [
    "! pip install fair-esm fairscale"
   ]
  },
  {
   "cell_type": "code",
   "execution_count": null,
   "id": "524c8d6c-f24c-4ca7-bdc7-cb38c1a059b5",
   "metadata": {},
   "outputs": [],
   "source": [
    "! python mount/notebooks/src/embeddings.py --fasta mount/cnn_ensemble_seq_generation/outputs/all_sequences.fasta --output_dir mount/cnn_ensemble_seq_generation/outputs/all_seqs_embeddings"
   ]
  },
  {
   "cell_type": "code",
   "execution_count": 15,
   "id": "2a5e5605",
   "metadata": {},
   "outputs": [
    {
     "data": {
      "image/png": "[encoded data removed]",
      "text/plain": [
       "<Figure size 1000x600 with 1 Axes>"
      ]
     },
     "metadata": {},
     "output_type": "display_data"
    }
   ],
   "source": [
    "def evaluate_model_at_hamming_distance(model, data_holder, distance):\n",
    "    \"\"\"Evaluate model R² score at a specific Hamming distance.\"\"\"\n",
    "    filtered_data = data_holder.for_cut_offs(min_distance=distance, max_distance=distance)\n",
    "    loader = filtered_data.loader_all_data()\n",
    "    return training.r2_score_for_model_and_loader(model, loader)\n",
    "\n",
    "hamming_distances = range(df['num_mutations'].min(), 11)\n",
    "r2_scores = []\n",
    "\n",
    "for dist in hamming_distances:\n",
    "    r2 = evaluate_model_at_hamming_distance(model, data_holder, dist)\n",
    "    r2_scores.append(r2)\n",
    "    \n",
    "import matplotlib.pyplot as plt\n",
    "\n",
    "plt.figure(figsize=(10, 6))\n",
    "plt.plot(hamming_distances, r2_scores, 'bo-')\n",
    "plt.axvline(x=4, color='red', linestyle='--', alpha=0.7)\n",
    "plt.xlabel('Hamming Distance')\n",
    "plt.ylabel('R² Score')\n",
    "plt.title('Model Performance vs Hamming Distance')\n",
    "plt.grid(True, alpha=0.3)\n",
    "plt.savefig('model_performance_vs_hamming_distance.svg', format='svg', bbox_inches='tight', dpi=300)\n",
    "plt.show()"
   ]
  },
  {
   "cell_type": "code",
   "execution_count": null,
   "id": "s483lyr3cff",
   "metadata": {},
   "outputs": [
    {
     "ename": "SyntaxError",
     "evalue": "unmatched ')' (4250289273.py, line 24)",
     "output_type": "error",
     "traceback": [
      "  \u001b[36mCell\u001b[39m\u001b[36m \u001b[39m\u001b[32mIn[15]\u001b[39m\u001b[32m, line 24\u001b[39m\n\u001b[31m    \u001b[39m\u001b[31mprint(f\"{row['num_mutations']:<10} {row['mean']:<10.3f} {row['sem']:<10.3f} {row['count']:<10}\"))\u001b[39m\n                                                                                                    ^\n\u001b[31mSyntaxError\u001b[39m\u001b[31m:\u001b[39m unmatched ')'\n"
     ]
    }
   ],
   "source": [
    "# Plot mean brightness by hamming distance with error bars\n",
    "import matplotlib.pyplot as plt\n",
    "import numpy as np\n",
    "\n",
    "# Calculate mean and standard error by hamming distance\n",
    "hamming_stats = df.groupby('num_mutations')['score'].agg(['mean', 'sem', 'count']).reset_index()\n",
    "\n",
    "plt.figure(figsize=(10, 6))\n",
    "plt.errorbar(hamming_stats['num_mutations'], hamming_stats['mean'], \n",
    "             yerr=hamming_stats['sem'], fmt='bo-', capsize=5, capthick=1)\n",
    "plt.axvline(x=4, color='red', linestyle='--', alpha=0.7)\n",
    "plt.xlabel('Hamming Distance')\n",
    "plt.ylabel('Mean Brightness (Score)')\n",
    "plt.title('Mean Brightness vs Hamming Distance')\n",
    "plt.grid(True, alpha=0.3)\n",
    "plt.savefig('mean_brightness_vs_hamming_distance.svg', format='svg', bbox_inches='tight', dpi=300)\n",
    "plt.show()\n",
    "\n",
    "# Print summary statistics\n",
    "print(\"Summary statistics by Hamming Distance:\")\n",
    "print(f\"{'Distance':<10} {'Mean':<10} {'SEM':<10} {'Count':<10}\")\n",
    "print(\"-\" * 42)\n",
    "for _, row in hamming_stats.iterrows():\n",
    "    print(f\"{row['num_mutations']:<10} {row['mean']:<10.3f} {row['sem']:<10.3f} {row['count']:<10}\")"
   ]
  },
  {
   "cell_type": "code",
   "execution_count": null,
   "id": "yvk2zoq41",
   "metadata": {},
   "outputs": [
    {
     "name": "stdout",
     "output_type": "stream",
     "text": [
      "Top 5 predicted scores: [4.069393  3.9643793 3.868021  3.629906  3.6293871]\n",
      "Bottom 5 predicted scores: [1.9792874 1.8068151 1.7962792 1.7058613 1.4701645]\n",
      "Top 5 range: 3.629 - 4.069\n",
      "Bottom 5 range: 1.470 - 1.979\n"
     ]
    },
    {
     "data": {
      "image/png": "[encoded data removed]",
      "text/plain": [
       "<Figure size 1200x600 with 1 Axes>"
      ]
     },
     "metadata": {},
     "output_type": "display_data"
    },
    {
     "name": "stdout",
     "output_type": "stream",
     "text": [
      "\n",
      "Summary:\n",
      "Full dataset sequences: 31565\n",
      "Sequences in top 5 predicted region: 7046 (22.3%)\n",
      "Sequences in bottom 5 predicted region: 4573 (14.5%)\n"
     ]
    }
   ],
   "source": [
    "# Create brightness histogram with shaded regions for top/bottom 5 predicted sequences\n",
    "import matplotlib.pyplot as plt\n",
    "import numpy as np\n",
    "\n",
    "# Get top 5 and bottom 5 predicted sequences\n",
    "top_5_scores = results_df.head(5)['predicted_score'].values\n",
    "bottom_5_scores = results_df.tail(5)['predicted_score'].values\n",
    "\n",
    "# Create histogram of all brightness values from main dataset\n",
    "plt.figure(figsize=(12, 6))\n",
    "plt.hist(df['score'], bins=50, alpha=0.7, color='lightblue', edgecolor='black', linewidth=0.5)\n",
    "\n",
    "# Add shaded regions for top 5 and bottom 5 predicted sequences\n",
    "plt.axvspan(top_5_scores.min(), top_5_scores.max(), alpha=0.3, color='green', label=f'Top 5 Predicted')\n",
    "plt.axvspan(bottom_5_scores.min(), bottom_5_scores.max(), alpha=0.3, color='red', label=f'Bottom 5 Predicted')\n",
    "\n",
    "# Styling and labels\n",
    "plt.xlabel('Brightness Score')\n",
    "plt.ylabel('Frequency')\n",
    "plt.title('Predicted Brightness Distribution')\n",
    "plt.legend(bbox_to_anchor=(1.05, 1), loc='upper left')\n",
    "plt.grid(True, alpha=0.3)\n",
    "\n",
    "# Save the plot\n",
    "plt.savefig('brightness_histogram_with_prediction_regions.svg', format='svg', bbox_inches='tight', dpi=300)\n",
    "plt.show()\n",
    "\n",
    "# Summary statistics\n",
    "full_dataset_count = len(df)\n",
    "top_region_count = len(df[(df['score'] >= top_5_scores.min()) & (df['score'] <= top_5_scores.max())])\n",
    "bottom_region_count = len(df[(df['score'] >= bottom_5_scores.min()) & (df['score'] <= bottom_5_scores.max())])\n",
    "\n",
    "print(f\"\\nSummary:\")\n",
    "print(f\"Full dataset sequences: {full_dataset_count}\")\n",
    "print(f\"Sequences in top 5 predicted region: {top_region_count} ({top_region_count/full_dataset_count*100:.1f}%)\")\n",
    "print(f\"Sequences in bottom 5 predicted region: {bottom_region_count} ({bottom_region_count/full_dataset_count*100:.1f}%)\")"
   ]
  },
  {
   "cell_type": "code",
   "execution_count": null,
   "id": "9e8d5bbb",
   "metadata": {},
   "outputs": [],
   "source": []
  }
 ],
 "metadata": {
  "kernelspec": {
   "display_name": "Python 3 (ipykernel)",
   "language": "python",
   "name": "python3"
  },
  "language_info": {
   "codemirror_mode": {
    "name": "ipython",
    "version": 3
   },
   "file_extension": ".py",
   "mimetype": "text/x-python",
   "name": "python",
   "nbconvert_exporter": "python",
   "pygments_lexer": "ipython3",
   "version": "3.11.5"
  },
  "toc-autonumbering": false,
  "toc-showmarkdowntxt": false,
  "toc-showtags": false
 },
 "nbformat": 4,
 "nbformat_minor": 5
}
