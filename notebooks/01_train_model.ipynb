{
 "cells": [
  {
   "cell_type": "markdown",
   "id": "training-header",
   "metadata": {},
   "source": [
    "# CNN Ensemble Model Training\n",
    "\n",
    "This notebook creates, trains, and saves a CNN ensemble model for protein activity prediction."
   ]
  },
  {
   "cell_type": "markdown",
   "id": "setup-header",
   "metadata": {},
   "source": [
    "# Setup and Config"
   ]
  },
  {
   "cell_type": "code",
   "execution_count": null,
   "id": "pip-install",
   "metadata": {
    "vscode": {
     "languageId": "python"
    }
   },
   "outputs": [],
   "source": [
    "! pip install tqdm numpy pandas torch seaborn scikit-learn"
   ]
  },
  {
   "cell_type": "code",
   "execution_count": null,
   "id": "eaad6188",
   "metadata": {
    "vscode": {
     "languageId": "python"
    }
   },
   "outputs": [],
   "source": [
    "import sys\n",
    "sys.path.append('mount')"
   ]
  },
  {
   "cell_type": "code",
   "execution_count": null,
   "id": "imports",
   "metadata": {
    "vscode": {
     "languageId": "python"
    }
   },
   "outputs": [],
   "source": [
    "from pathlib import Path\n",
    "import pandas as pd\n",
    "import torch\n",
    "\n",
    "import src.data as data\n",
    "import src.models as models\n",
    "import src.training as training"
   ]
  },
  {
   "cell_type": "code",
   "execution_count": null,
   "id": "u9w7fiiaagj",
   "metadata": {
    "vscode": {
     "languageId": "python"
    }
   },
   "outputs": [],
   "source": [
    "# Define data paths\n",
    "TRAINING_DATA_PATH = \"mount/data/esm2_15b_embeddings_and_meta.csv\"\n",
    "OUTPUTS_DIR = Path(\"mount/outputs\")\n",
    "MODEL_PATH = OUTPUTS_DIR / \"cnn_ensemble_model.pth\"\n",
    "METRICS_PATH = OUTPUTS_DIR / \"training_metrics.json\""
   ]
  },
  {
   "cell_type": "markdown",
   "id": "data-header",
   "metadata": {},
   "source": [
    "# Data Loading"
   ]
  },
  {
   "cell_type": "code",
   "execution_count": null,
   "id": "data-loading",
   "metadata": {
    "vscode": {
     "languageId": "python"
    }
   },
   "outputs": [],
   "source": [
    "df = pd.read_csv(TRAINING_DATA_PATH)\n",
    "print(f\"Loaded {len(df)} sequences for training from {TRAINING_DATA_PATH}\")"
   ]
  },
  {
   "cell_type": "markdown",
   "id": "training-header-2",
   "metadata": {},
   "source": [
    "# Training Configuration"
   ]
  },
  {
   "cell_type": "code",
   "execution_count": null,
   "id": "config-class",
   "metadata": {
    "vscode": {
     "languageId": "python"
    }
   },
   "outputs": [],
   "source": [
    "class TrainingConfig:\n",
    "    def __init__(self):\n",
    "        self.learning_rate = 1e-3\n",
    "        self.batch_size = 64\n",
    "        self.epochs = 200\n",
    "        self.weight_decay = 0.01\n",
    "        self.gradient_clip = 1.0"
   ]
  },
  {
   "cell_type": "code",
   "execution_count": null,
   "id": "config-create",
   "metadata": {
    "vscode": {
     "languageId": "python"
    }
   },
   "outputs": [],
   "source": [
    "config = TrainingConfig()\n",
    "device = 'cuda' if torch.cuda.is_available() else 'cpu'\n",
    "print(f\"Using device: {device}\")"
   ]
  },
  {
   "cell_type": "markdown",
   "id": "data-holders-header",
   "metadata": {},
   "source": [
    "# Data Preparation"
   ]
  },
  {
   "cell_type": "code",
   "execution_count": null,
   "id": "data-holders",
   "metadata": {
    "vscode": {
     "languageId": "python"
    }
   },
   "outputs": [],
   "source": [
    "data_holder = data.ESMDataHolder(df)\n",
    "all_loader = data_holder.loader_all_data()\n",
    "train_loader, val_loader = data_holder.train_val_split()\n",
    "\n",
    "print(f\"Training batches: {len(train_loader)}\")\n",
    "print(f\"Validation batches: {len(val_loader)}\")"
   ]
  },
  {
   "cell_type": "markdown",
   "id": "model-training-header",
   "metadata": {},
   "source": [
    "# Model Creation and Training"
   ]
  },
  {
   "cell_type": "code",
   "execution_count": null,
   "id": "model-create",
   "metadata": {
    "vscode": {
     "languageId": "python"
    }
   },
   "outputs": [],
   "source": [
    "model = models.Ensemble().to(device)\n",
    "print(f\"Created CNN ensemble model on {device}\")"
   ]
  },
  {
   "cell_type": "code",
   "execution_count": null,
   "id": "model-training",
   "metadata": {
    "vscode": {
     "languageId": "python"
    }
   },
   "outputs": [
    {
     "name": "stderr",
     "output_type": "stream",
     "text": [
      "100%|██████████| 200/200 [24:54<00:00,  7.47s/it, train_loss=0.1220, val_loss=0.1666, val_r2=0.8505]"
     ]
    },
    {
     "name": "stdout",
     "output_type": "stream",
     "text": [
      "\n",
      "Training completed! Final R²: 0.8505\n"
     ]
    },
    {
     "name": "stderr",
     "output_type": "stream",
     "text": [
      "\n"
     ]
    }
   ],
   "source": [
    "# Train the model\n",
    "training_result = training.train_variant_cnn(model, train_loader, val_loader, config, device, updates=True)\n",
    "model = training_result['model']\n",
    "print(f\"\\nTraining completed! Final R²: {training_result['final_r2']:.4f}\")"
   ]
  },
  {
   "cell_type": "markdown",
   "id": "evaluation-header",
   "metadata": {},
   "source": [
    "# Model Evaluation"
   ]
  },
  {
   "cell_type": "code",
   "execution_count": null,
   "id": "model-evaluation",
   "metadata": {
    "vscode": {
     "languageId": "python"
    }
   },
   "outputs": [
    {
     "name": "stdout",
     "output_type": "stream",
     "text": [
      "Validation R² score: 0.8505\n"
     ]
    }
   ],
   "source": [
    "# Verify R² score on validation set\n",
    "val_r2 = training.r2_score_for_model_and_loader(model, val_loader)\n",
    "print(f\"Validation R² score: {val_r2:.4f}\")"
   ]
  },
  {
   "cell_type": "code",
   "execution_count": null,
   "id": "training-metrics",
   "metadata": {
    "vscode": {
     "languageId": "python"
    }
   },
   "outputs": [
    {
     "name": "stdout",
     "output_type": "stream",
     "text": [
      "\n",
      "=== Training Summary ===\n",
      "Final training loss: 0.1220\n",
      "Final validation loss: 0.1666\n",
      "Final validation R²: 0.8505\n",
      "Best validation R²: 0.8509\n"
     ]
    }
   ],
   "source": [
    "# Display training metrics\n",
    "print(\"\\n=== Training Summary ===\")\n",
    "print(f\"Final training loss: {training_result['train_losses'][-1]:.4f}\")\n",
    "print(f\"Final validation loss: {training_result['val_losses'][-1]:.4f}\")\n",
    "print(f\"Final validation R²: {training_result['final_r2']:.4f}\")\n",
    "print(f\"Best validation R²: {max(training_result['val_r2_history']):.4f}\")"
   ]
  },
  {
   "cell_type": "markdown",
   "id": "save-model-header",
   "metadata": {},
   "source": [
    "# Save Trained Model"
   ]
  },
  {
   "cell_type": "code",
   "execution_count": null,
   "id": "save-model",
   "metadata": {
    "vscode": {
     "languageId": "python"
    }
   },
   "outputs": [
    {
     "name": "stdout",
     "output_type": "stream",
     "text": [
      "Model saved to: mount/outputs/cnn_ensemble_model.pth\n",
      "Training metrics saved to: mount/outputs/training_metrics.json\n"
     ]
    }
   ],
   "source": [
    "# Create outputs directory if it doesn't exist\n",
    "OUTPUTS_DIR.mkdir(exist_ok=True)\n",
    "\n",
    "# Save the trained model\n",
    "torch.save(model.state_dict(), MODEL_PATH)\n",
    "print(f\"Model saved to: {MODEL_PATH}\")\n",
    "\n",
    "# Save training metrics\n",
    "import json\n",
    "metrics = {\n",
    "    'final_r2': float(training_result['final_r2']),\n",
    "    'final_train_loss': float(training_result['train_losses'][-1]),\n",
    "    'final_val_loss': float(training_result['val_losses'][-1]),\n",
    "    'best_val_r2': float(max(training_result['val_r2_history'])),\n",
    "    'epochs_trained': len(training_result['train_losses'])\n",
    "}\n",
    "\n",
    "with open(METRICS_PATH, 'w') as f:\n",
    "    json.dump(metrics, f, indent=2)\n",
    "print(f\"Training metrics saved to: {METRICS_PATH}\")"
   ]
  },
  {
   "cell_type": "markdown",
   "id": "completion-header",
   "metadata": {},
   "source": [
    "# Training Complete\n",
    "\n",
    "The CNN ensemble model has been successfully trained and saved. You can now use the saved model in the sequence generation notebook (`02_generate_sequences.ipynb`)."
   ]
  }
 ],
 "metadata": {
  "kernelspec": {
   "display_name": "Python 3 (ipykernel)",
   "language": "python",
   "name": "python3"
  },
  "language_info": {
   "name": "",
   "version": ""
  }
 },
 "nbformat": 4,
 "nbformat_minor": 5
}
